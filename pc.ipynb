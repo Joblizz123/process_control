{
 "cells": [
  {
   "cell_type": "code",
   "execution_count": 1,
   "metadata": {},
   "outputs": [],
   "source": [
    "# Importing necessary libraries\n",
    "import numpy as np\n",
    "import pandas as pd\n",
    "import matplotlib.pyplot as plt\n",
    "import seaborn as sns\n",
    "import sklearn"
   ]
  },
  {
   "cell_type": "markdown",
   "metadata": {},
   "source": [
    "#### 2. LIST MANIPULATION"
   ]
  },
  {
   "cell_type": "code",
   "execution_count": 7,
   "metadata": {},
   "outputs": [
    {
     "name": "stdout",
     "output_type": "stream",
     "text": [
      "The maximum value in the list is: 87\n",
      "\n",
      "\n",
      "The maximum value in the list is: 3\n",
      "\n",
      "\n",
      "The sum of the list is: 215\n",
      "\n",
      "\n",
      "The sorted list is: [ 3  4  6 10 12 39 54 87]\n",
      "3\n",
      "4\n",
      "6\n",
      "10\n",
      "39\n",
      "87\n",
      "12\n",
      "54\n"
     ]
    }
   ],
   "source": [
    "list_a = [3, 4, 6, 10, 39, 87, 12, 54]\n",
    "list_a = np.array(list_a)\n",
    "# Maximum value of the list\n",
    "a_max = np.max(list_a)\n",
    "print('The maximum value in the list is:', a_max)\n",
    "# Minimum value of the list\n",
    "a_min = np.min(list_a)\n",
    "print('\\n')\n",
    "print('The maximum value in the list is:', a_min)\n",
    "# Sum of all the values in the list\n",
    "a_sum = np.sum(list_a)\n",
    "print('\\n')\n",
    "print('The sum of the list is:', a_sum)\n",
    "\n",
    "\n",
    "# Sorting the list\n",
    "sorted_list = np.sort(list_a)\n",
    "print('\\n')\n",
    "print('The sorted list is:', sorted_list)\n",
    "\n",
    "\n",
    "# A for loop\n",
    "for  i in range(0, len(list_a)):\n",
    "    print(list_a[i])"
   ]
  },
  {
   "cell_type": "markdown",
   "metadata": {},
   "source": [
    "3. PRIME NUMBER AND FACTOR"
   ]
  },
  {
   "cell_type": "code",
   "execution_count": 19,
   "metadata": {},
   "outputs": [
    {
     "name": "stdout",
     "output_type": "stream",
     "text": [
      "\n",
      "\n",
      "True\n",
      "True\n",
      "True\n",
      "True\n",
      "False\n",
      "False\n",
      "False\n",
      "True\n",
      "\n",
      "\n",
      "The prime numbers between 1 and 100 are: \n",
      "2 3 5 7 11 13 17 19 23 29 31 37 41 43 47 53 59 61 67 71 73 79 83 89 97 "
     ]
    }
   ],
   "source": [
    "def prime_number(n):\n",
    "    if n == 1:\n",
    "        return False\n",
    "    for i in range(2, n):\n",
    "        if n % i == 0:\n",
    "            return False\n",
    "    return True\n",
    "\n",
    "# Example\n",
    "print('\\n')\n",
    "integers = [3, 2, 7, 11, 15, 18, 9 , 13]\n",
    "\n",
    "for n in integers:\n",
    "    print(prime_number(n))\n",
    "\n",
    "# prime_number(5)\n",
    "print('\\n')\n",
    "print('The prime numbers between 1 and 100 are: ')\n",
    "for i in range(1, 100):\n",
    "    if prime_number(i):\n",
    "        print(i, end=' ')\n",
    "\n"
   ]
  },
  {
   "cell_type": "code",
   "execution_count": 20,
   "metadata": {},
   "outputs": [
    {
     "name": "stdout",
     "output_type": "stream",
     "text": [
      "0 1 2 3 4 5 6 7 8 9 10 11 12 13 14 15 16 17 18 19 20 21 22 23 24 25 26 27 28 29 30 31 32 33 34 35 36 37 38 39 40 41 42 43 44 45 46 47 48 49 50 51 52 53 54 55 56 57 58 59 60 61 62 63 64 65 66 67 68 69 70 71 72 73 74 75 76 77 78 79 80 81 82 83 84 85 86 87 88 89 90 91 92 93 94 95 96 97 98 99 100 101 102 103 104 105 106 107 108 109 110 111 112 113 114 115 116 117 118 119 120 121 122 123 124 125 126 127 128 129 130 131 132 133 134 135 136 137 138 139 140 141 142 143 144 145 146 147 148 149 150 151 152 153 154 155 156 157 158 159 160 161 162 163 164 165 166 167 168 169 170 171 172 173 174 175 176 177 178 179 180 181 182 183 184 185 186 187 188 189 190 191 192 193 194 195 196 197 198 199 200 201 202 203 204 205 206 207 208 209 210 211 212 213 214 215 216 217 218 219 220 221 222 223 224 225 226 227 228 229 230 231 232 233 234 235 236 237 238 239 240 241 242 243 244 245 246 247 248 249 250 251 252 253 254 255 256 257 258 259 260 261 262 263 264 265 266 267 268 269 270 271 272 273 274 275 276 277 278 279 280 281 282 283 284 285 286 287 288 289 290 291 292 293 294 295 296 297 298 299 300 301 302 303 304 305 306 307 308 309 310 311 312 313 314 315 316 317 318 319 320 321 322 323 324 325 326 327 328 329 330 331 332 333 334 335 336 337 338 339 340 341 342 343 344 345 346 347 348 349 350 351 352 353 354 355 356 357 358 359 360 361 362 363 364 365 366 367 368 369 370 371 372 373 374 375 376 377 378 379 380 381 382 383 384 385 386 387 388 389 390 391 392 393 394 395 396 397 398 399 400 401 402 403 404 405 406 407 408 409 410 411 412 413 414 415 416 417 418 419 420 421 422 423 424 425 426 427 428 429 430 431 432 433 434 435 436 437 438 439 440 441 442 443 444 445 446 447 448 449 450 451 452 453 454 455 456 457 458 459 460 461 462 463 464 465 466 467 468 469 470 471 472 473 474 475 476 477 478 479 480 481 482 483 484 485 486 487 488 489 490 491 492 493 494 495 496 497 498 499 500 501 502 503 504 505 506 507 508 509 510 511 512 513 514 515 516 517 518 519 520 521 522 523 524 525 526 527 528 529 530 531 532 533 534 535 536 537 538 539 540 541 542 543 544 545 546 547 548 549 550 551 552 553 554 555 556 557 558 559 560 561 562 563 564 565 566 567 568 569 570 571 572 573 574 575 576 577 578 579 580 581 582 583 584 585 586 587 588 589 590 591 592 593 594 595 596 597 598 599 600 601 602 603 604 605 606 607 608 609 610 611 612 613 614 615 616 617 618 619 620 621 622 623 624 625 626 627 628 629 630 631 632 633 634 635 636 637 638 639 640 641 642 643 644 645 646 647 648 649 650 651 652 653 654 655 656 657 658 659 660 661 662 663 664 665 666 667 668 669 670 671 672 673 674 675 676 677 678 679 680 681 682 683 684 685 686 687 688 689 690 691 692 693 694 695 696 697 698 699 700 701 702 703 704 705 706 707 708 709 710 711 712 713 714 715 716 717 718 719 720 721 722 723 724 725 726 727 728 729 730 731 732 733 734 735 736 737 738 739 740 741 742 743 744 745 746 747 748 749 750 751 752 753 754 755 756 757 758 759 760 761 762 763 764 765 766 767 768 769 770 771 772 773 774 775 776 777 778 779 780 781 782 783 784 785 786 787 788 789 790 791 792 793 794 795 796 797 798 799 800 801 802 803 804 805 806 807 808 809 810 811 812 813 814 815 816 817 818 819 820 821 822 823 824 825 826 827 828 829 830 831 832 833 834 835 836 837 838 839 840 841 842 843 844 845 846 847 848 849 850 851 852 853 854 855 856 857 858 859 860 861 862 863 864 865 866 867 868 869 870 871 872 873 874 875 876 877 878 879 880 881 882 883 884 885 886 887 888 889 890 891 892 893 894 895 896 897 898 899 900 901 902 903 904 905 906 907 908 909 910 911 912 913 914 915 916 917 918 919 920 921 922 923 924 925 926 927 928 929 930 931 932 933 934 935 936 937 938 939 940 941 942 943 944 945 946 947 948 949 950 951 952 953 954 955 956 957 958 959 960 961 962 963 964 965 966 967 968 969 970 971 972 973 974 975 976 977 978 979 980 981 982 983 984 985 986 987 988 989 990 991 992 993 994 995 996 997 998 999 1000\n"
     ]
    }
   ],
   "source": [
    "def prime_number_customed(n):\n",
    "    if n == 1:\n",
    "        return False\n",
    "    for i in range(0, n+1):\n",
    "        if i % 2 == 0:\n",
    "            return False\n",
    "        if i < n+1:\n",
    "            print(i, end=' ')   \n",
    "    return i\n",
    "\n",
    "print(prime_number_customed(1000))\n"
   ]
  },
  {
   "cell_type": "markdown",
   "metadata": {},
   "source": [
    "4. Define a function to output a 3D (n×3×3) numpy array, where n is the input value (argument) of the function to control the length of the array, and data is the input value that determines what kind of data it contains"
   ]
  },
  {
   "cell_type": "code",
   "execution_count": 41,
   "metadata": {},
   "outputs": [],
   "source": [
    "def generate_3d_array(n, data='zero'):\n",
    "    if data == 'zero':\n",
    "        return np.zeros((n, 3, 3))\n",
    "    elif data == 'random':\n",
    "        return np.random.randint(1, 101, (n, 3, 3))\n",
    "    else:\n",
    "        raise ValueError(\"Invalid data type. Use 'zero' or 'random'.\")"
   ]
  },
  {
   "cell_type": "markdown",
   "metadata": {},
   "source": [
    "(b) Call the function for n=10 and populate the array with zeroes"
   ]
  },
  {
   "cell_type": "code",
   "execution_count": 42,
   "metadata": {},
   "outputs": [
    {
     "name": "stdout",
     "output_type": "stream",
     "text": [
      "Array with zeroes:\n",
      " [[[0. 0. 0.]\n",
      "  [0. 0. 0.]\n",
      "  [0. 0. 0.]]\n",
      "\n",
      " [[0. 0. 0.]\n",
      "  [0. 0. 0.]\n",
      "  [0. 0. 0.]]\n",
      "\n",
      " [[0. 0. 0.]\n",
      "  [0. 0. 0.]\n",
      "  [0. 0. 0.]]\n",
      "\n",
      " [[0. 0. 0.]\n",
      "  [0. 0. 0.]\n",
      "  [0. 0. 0.]]\n",
      "\n",
      " [[0. 0. 0.]\n",
      "  [0. 0. 0.]\n",
      "  [0. 0. 0.]]\n",
      "\n",
      " [[0. 0. 0.]\n",
      "  [0. 0. 0.]\n",
      "  [0. 0. 0.]]\n",
      "\n",
      " [[0. 0. 0.]\n",
      "  [0. 0. 0.]\n",
      "  [0. 0. 0.]]\n",
      "\n",
      " [[0. 0. 0.]\n",
      "  [0. 0. 0.]\n",
      "  [0. 0. 0.]]\n",
      "\n",
      " [[0. 0. 0.]\n",
      "  [0. 0. 0.]\n",
      "  [0. 0. 0.]]\n",
      "\n",
      " [[0. 0. 0.]\n",
      "  [0. 0. 0.]\n",
      "  [0. 0. 0.]]]\n"
     ]
    }
   ],
   "source": [
    "array_zeros = generate_3d_array(10, data='zero')\n",
    "print(\"Array with zeroes:\\n\", array_zeros)"
   ]
  },
  {
   "cell_type": "markdown",
   "metadata": {},
   "source": [
    "Call the function for n=5 and populate the array with random numbers between 1 and 100"
   ]
  },
  {
   "cell_type": "code",
   "execution_count": 43,
   "metadata": {},
   "outputs": [
    {
     "name": "stdout",
     "output_type": "stream",
     "text": [
      "Array with random numbers:\n",
      " [[[48 89  9]\n",
      "  [49 43 25]\n",
      "  [74 65 73]]\n",
      "\n",
      " [[61 78 59]\n",
      "  [67 10 26]\n",
      "  [45 46 92]]\n",
      "\n",
      " [[65 24 91]\n",
      "  [ 1 24 79]\n",
      "  [35 14 87]]\n",
      "\n",
      " [[48 16 95]\n",
      "  [80 70 69]\n",
      "  [69 56 96]]\n",
      "\n",
      " [[83 41 45]\n",
      "  [81 71  7]\n",
      "  [83 81 37]]]\n"
     ]
    }
   ],
   "source": [
    "array_random = generate_3d_array(5, data='random')\n",
    "print(\"Array with random numbers:\\n\", array_random)"
   ]
  },
  {
   "cell_type": "code",
   "execution_count": 22,
   "metadata": {},
   "outputs": [
    {
     "name": "stdout",
     "output_type": "stream",
     "text": [
      "a = -1.7, b = 1.9, c = -1.5\n"
     ]
    }
   ],
   "source": [
    "# Defining  the coefficients as  matrix A\n",
    "A = np.array([[3, 4, -5], \n",
    "              [0, 5, 1], \n",
    "              [1, 3, 6]])\n",
    "\n",
    "# Defining the right-hand side values as matrix B\n",
    "B = np.array([10, 8, -5])\n",
    "\n",
    "# Solving for x (a, b, c)\n",
    "solution = np.linalg.solve(A, B)\n",
    "\n",
    "# Print the solution\n",
    "a, b, c = solution\n",
    "print(f\"a = {a}, b = {b}, c = {c}\")\n"
   ]
  },
  {
   "cell_type": "markdown",
   "metadata": {},
   "source": [
    "6. Given an expression:\n",
    "\n",
    " y = 0.1x^3-x^2+5\n",
    "\n",
    " (a) Plot the function in the range of x from -5 to 5\n",
    " (b) Find the maximum and minimum value of this function and add them with points and labels on the same figure\n"
   ]
  },
  {
   "cell_type": "markdown",
   "metadata": {},
   "source": []
  },
  {
   "cell_type": "code",
   "execution_count": 40,
   "metadata": {},
   "outputs": [
    {
     "name": "stdout",
     "output_type": "stream",
     "text": [
      "[-32.5 -17.4  -6.7   0.2   3.9   5.    4.1   1.8  -1.3  -4.6  -7.5]\n"
     ]
    },
    {
     "data": {
      "image/png": "[encoded data removed]",
      "text/plain": [
       "<Figure size 640x480 with 1 Axes>"
      ]
     },
     "metadata": {},
     "output_type": "display_data"
    }
   ],
   "source": [
    "def function(x):\n",
    "    return 0.1*x**3 - x**2 + 5\n",
    "\n",
    "\n",
    "# Defining the range of x values\n",
    "x = np.arange(-5, 6, 1)\n",
    "\n",
    "y = function(x)\n",
    "print(y)\n",
    "\n",
    "# Maximum value of y\n",
    "y_max = np.max(y)\n",
    "\n",
    "# Minimum value of y\n",
    "y_min = np.min(y)\n",
    "\n",
    "x_max = x[np.argmax(y)]  # x-value of global maximum\n",
    "x_min = x[np.argmin(y)]  # x-value of global minimum\n",
    "\n",
    "\n",
    "\n",
    "\n",
    "# Plot min points\n",
    "plt.plot(x, y, color='green', label='y = 0.1*x**3 - x**2 +5', zorder=2)\n",
    "\n",
    "# Plotting  max point\n",
    "plt.scatter(x_max, y_max, color='red', label='Maxima', zorder=3)\n",
    "\n",
    "# Plotting min point\n",
    "plt.scatter(x_min, y_min, color='blue', label='Minima', zorder=3)\n",
    "plt.xlabel('x-axis')\n",
    "plt.ylabel('y-axis')\n",
    "plt\n",
    "plt.title('Graph of y = 0.1*x**3 - x**2 +5')\n",
    "plt.legend(loc='best');\n"
   ]
  },
  {
   "cell_type": "code",
   "execution_count": null,
   "metadata": {},
   "outputs": [],
   "source": []
  }
 ],
 "metadata": {
  "kernelspec": {
   "display_name": "base",
   "language": "python",
   "name": "python3"
  },
  "language_info": {
   "codemirror_mode": {
    "name": "ipython",
    "version": 3
   },
   "file_extension": ".py",
   "mimetype": "text/x-python",
   "name": "python",
   "nbconvert_exporter": "python",
   "pygments_lexer": "ipython3",
   "version": "3.11.5"
  }
 },
 "nbformat": 4,
 "nbformat_minor": 2
}
