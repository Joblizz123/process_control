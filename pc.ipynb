{
 "cells": [
  {
   "cell_type": "code",
   "execution_count": 1,
   "metadata": {},
   "outputs": [],
   "source": [
    "# Importing necessary libraries\n",
    "import numpy as np\n",
    "import pandas as pd\n",
    "import matplotlib.pyplot as plt\n",
    "import seaborn as sns\n",
    "import sklearn"
   ]
  },
  {
   "cell_type": "markdown",
   "metadata": {},
   "source": [
    "#### 2. LIST MANIPULATION"
   ]
  },
  {
   "cell_type": "code",
   "execution_count": 2,
   "metadata": {},
   "outputs": [
    {
     "name": "stdout",
     "output_type": "stream",
     "text": [
      "87\n",
      "3\n",
      "215\n",
      "3\n",
      "4\n",
      "6\n",
      "10\n",
      "39\n",
      "87\n",
      "12\n",
      "54\n"
     ]
    }
   ],
   "source": [
    "list_a = [3, 4, 6, 10, 39, 87, 12, 54]\n",
    "list_a = np.array(list_a)\n",
    "# Maximum value of the list\n",
    "a_max = np.max(list_a)\n",
    "print('The maximum value in the list is:', a_max)\n",
    "# Minimum value of the list\n",
    "a_min = np.min(list_a)\n",
    "print('The maximum value in the list is:', a_min)\n",
    "# Sum of all the values in the list\n",
    "a_sum = np.sum(list_a)\n",
    "print('The sum of the list is:', a_sum)\n",
    "\n",
    "\n",
    "# Sorting the list\n",
    "sorted_list = np.sort(list_a)\n",
    "\n",
    "\n",
    "# A for loop\n",
    "for  i in range(0, len(list_a)):\n",
    "    print(list_a[i])"
   ]
  },
  {
   "cell_type": "code",
   "execution_count": null,
   "metadata": {},
   "outputs": [],
   "source": []
  }
 ],
 "metadata": {
  "kernelspec": {
   "display_name": "base",
   "language": "python",
   "name": "python3"
  },
  "language_info": {
   "codemirror_mode": {
    "name": "ipython",
    "version": 3
   },
   "file_extension": ".py",
   "mimetype": "text/x-python",
   "name": "python",
   "nbconvert_exporter": "python",
   "pygments_lexer": "ipython3",
   "version": "3.11.5"
  }
 },
 "nbformat": 4,
 "nbformat_minor": 2
}
